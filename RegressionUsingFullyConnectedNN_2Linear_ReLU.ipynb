{
 "cells": [
  {
   "cell_type": "code",
   "execution_count": 1,
   "id": "99fda1da-b1e0-4db1-a3cd-6a12c220e3d4",
   "metadata": {},
   "outputs": [],
   "source": [
    "import torch\n",
    "import hiddenlayer as hl\n",
    "\n",
    "import pandas as pd\n",
    "import numpy as np\n",
    "\n",
    "import seaborn as sns\n",
    "import matplotlib.pyplot as plt\n",
    "\n",
    "import sklearn"
   ]
  },
  {
   "cell_type": "code",
   "execution_count": 2,
   "id": "ef1ebc2d-5499-48c5-a294-5a556b9328a1",
   "metadata": {},
   "outputs": [],
   "source": [
    "data = pd.read_csv(\"/mnt/g/onlinelessons/deep learning/dataset/bike-sharing-demand/bike_sharing.csv\", index_col=0)"
   ]
  },
  {
   "cell_type": "code",
   "execution_count": 3,
   "id": "f85762c4-0cc8-4069-94e0-3888de351b57",
   "metadata": {},
   "outputs": [
    {
     "data": {
      "text/html": [
       "<div>\n",
       "<style scoped>\n",
       "    .dataframe tbody tr th:only-of-type {\n",
       "        vertical-align: middle;\n",
       "    }\n",
       "\n",
       "    .dataframe tbody tr th {\n",
       "        vertical-align: top;\n",
       "    }\n",
       "\n",
       "    .dataframe thead th {\n",
       "        text-align: right;\n",
       "    }\n",
       "</style>\n",
       "<table border=\"1\" class=\"dataframe\">\n",
       "  <thead>\n",
       "    <tr style=\"text-align: right;\">\n",
       "      <th></th>\n",
       "      <th>dteday</th>\n",
       "      <th>season</th>\n",
       "      <th>yr</th>\n",
       "      <th>mnth</th>\n",
       "      <th>holiday</th>\n",
       "      <th>weekday</th>\n",
       "      <th>workingday</th>\n",
       "      <th>weathersit</th>\n",
       "      <th>temp</th>\n",
       "      <th>atemp</th>\n",
       "      <th>hum</th>\n",
       "      <th>windspeed</th>\n",
       "      <th>casual</th>\n",
       "      <th>registered</th>\n",
       "      <th>cnt</th>\n",
       "    </tr>\n",
       "    <tr>\n",
       "      <th>instant</th>\n",
       "      <th></th>\n",
       "      <th></th>\n",
       "      <th></th>\n",
       "      <th></th>\n",
       "      <th></th>\n",
       "      <th></th>\n",
       "      <th></th>\n",
       "      <th></th>\n",
       "      <th></th>\n",
       "      <th></th>\n",
       "      <th></th>\n",
       "      <th></th>\n",
       "      <th></th>\n",
       "      <th></th>\n",
       "      <th></th>\n",
       "    </tr>\n",
       "  </thead>\n",
       "  <tbody>\n",
       "    <tr>\n",
       "      <th>134</th>\n",
       "      <td>14-05-2018</td>\n",
       "      <td>2</td>\n",
       "      <td>0</td>\n",
       "      <td>5</td>\n",
       "      <td>0</td>\n",
       "      <td>6</td>\n",
       "      <td>0</td>\n",
       "      <td>2</td>\n",
       "      <td>21.354153</td>\n",
       "      <td>25.03145</td>\n",
       "      <td>92.2500</td>\n",
       "      <td>9.041650</td>\n",
       "      <td>902</td>\n",
       "      <td>2507</td>\n",
       "      <td>3409</td>\n",
       "    </tr>\n",
       "    <tr>\n",
       "      <th>154</th>\n",
       "      <td>03-06-2018</td>\n",
       "      <td>2</td>\n",
       "      <td>0</td>\n",
       "      <td>6</td>\n",
       "      <td>0</td>\n",
       "      <td>5</td>\n",
       "      <td>1</td>\n",
       "      <td>1</td>\n",
       "      <td>25.420000</td>\n",
       "      <td>29.35665</td>\n",
       "      <td>35.4167</td>\n",
       "      <td>16.959107</td>\n",
       "      <td>898</td>\n",
       "      <td>4414</td>\n",
       "      <td>5312</td>\n",
       "    </tr>\n",
       "    <tr>\n",
       "      <th>712</th>\n",
       "      <td>13-12-2019</td>\n",
       "      <td>4</td>\n",
       "      <td>1</td>\n",
       "      <td>12</td>\n",
       "      <td>0</td>\n",
       "      <td>4</td>\n",
       "      <td>1</td>\n",
       "      <td>1</td>\n",
       "      <td>12.129153</td>\n",
       "      <td>14.70940</td>\n",
       "      <td>48.5833</td>\n",
       "      <td>11.666643</td>\n",
       "      <td>425</td>\n",
       "      <td>5107</td>\n",
       "      <td>5532</td>\n",
       "    </tr>\n",
       "    <tr>\n",
       "      <th>149</th>\n",
       "      <td>29-05-2018</td>\n",
       "      <td>2</td>\n",
       "      <td>0</td>\n",
       "      <td>5</td>\n",
       "      <td>0</td>\n",
       "      <td>0</td>\n",
       "      <td>0</td>\n",
       "      <td>1</td>\n",
       "      <td>27.367500</td>\n",
       "      <td>30.77750</td>\n",
       "      <td>81.8750</td>\n",
       "      <td>14.333846</td>\n",
       "      <td>2355</td>\n",
       "      <td>2433</td>\n",
       "      <td>4788</td>\n",
       "    </tr>\n",
       "    <tr>\n",
       "      <th>549</th>\n",
       "      <td>03-07-2019</td>\n",
       "      <td>3</td>\n",
       "      <td>1</td>\n",
       "      <td>7</td>\n",
       "      <td>0</td>\n",
       "      <td>2</td>\n",
       "      <td>1</td>\n",
       "      <td>1</td>\n",
       "      <td>32.014153</td>\n",
       "      <td>35.13250</td>\n",
       "      <td>49.2083</td>\n",
       "      <td>8.457879</td>\n",
       "      <td>1052</td>\n",
       "      <td>5608</td>\n",
       "      <td>6660</td>\n",
       "    </tr>\n",
       "  </tbody>\n",
       "</table>\n",
       "</div>"
      ],
      "text/plain": [
       "             dteday  season  yr  mnth  holiday  weekday  workingday  \\\n",
       "instant                                                               \n",
       "134      14-05-2018       2   0     5        0        6           0   \n",
       "154      03-06-2018       2   0     6        0        5           1   \n",
       "712      13-12-2019       4   1    12        0        4           1   \n",
       "149      29-05-2018       2   0     5        0        0           0   \n",
       "549      03-07-2019       3   1     7        0        2           1   \n",
       "\n",
       "         weathersit       temp     atemp      hum  windspeed  casual  \\\n",
       "instant                                                                \n",
       "134               2  21.354153  25.03145  92.2500   9.041650     902   \n",
       "154               1  25.420000  29.35665  35.4167  16.959107     898   \n",
       "712               1  12.129153  14.70940  48.5833  11.666643     425   \n",
       "149               1  27.367500  30.77750  81.8750  14.333846    2355   \n",
       "549               1  32.014153  35.13250  49.2083   8.457879    1052   \n",
       "\n",
       "         registered   cnt  \n",
       "instant                    \n",
       "134            2507  3409  \n",
       "154            4414  5312  \n",
       "712            5107  5532  \n",
       "149            2433  4788  \n",
       "549            5608  6660  "
      ]
     },
     "execution_count": 3,
     "metadata": {},
     "output_type": "execute_result"
    }
   ],
   "source": [
    "data.sample(5)"
   ]
  },
  {
   "cell_type": "code",
   "execution_count": 4,
   "id": "746444bc-6331-4787-b8f1-f6a02f0d1c01",
   "metadata": {},
   "outputs": [
    {
     "data": {
      "text/plain": [
       "(730, 15)"
      ]
     },
     "execution_count": 4,
     "metadata": {},
     "output_type": "execute_result"
    }
   ],
   "source": [
    "data.shape"
   ]
  },
  {
   "cell_type": "code",
   "execution_count": 5,
   "id": "66622904-47be-4a96-9362-645052b12fdd",
   "metadata": {},
   "outputs": [
    {
     "data": {
      "text/plain": [
       "Text(0.5, 1.0, 'number of bikes rented per season')"
      ]
     },
     "execution_count": 5,
     "metadata": {},
     "output_type": "execute_result"
    },
    {
     "data": {
      "image/png": "[encoded data removed]",
      "text/plain": [
       "<Figure size 600x600 with 1 Axes>"
      ]
     },
     "metadata": {},
     "output_type": "display_data"
    }
   ],
   "source": [
    "plt.figure(figsize=(6,6))\n",
    "sns.barplot(x='yr', y='cnt', hue='season', data=data, errorbar=None)\n",
    "\n",
    "plt.legend(loc='upper right', bbox_to_anchor=(1.2, 0.5))\n",
    "            \n",
    "plt.xlabel('year') \n",
    "plt.ylabel(\"Total number of bikes rented\")\n",
    "            \n",
    "plt.title(\"number of bikes rented per season\")"
   ]
  },
  {
   "cell_type": "code",
   "execution_count": 6,
   "id": "016a5187-4a7c-45e9-b264-54b3466ed8b1",
   "metadata": {},
   "outputs": [
    {
     "data": {
      "image/png": "[encoded data removed]",
      "text/plain": [
       "<Figure size 600x600 with 1 Axes>"
      ]
     },
     "metadata": {},
     "output_type": "display_data"
    }
   ],
   "source": [
    "plt.figure(figsize=(6,6))\n",
    "sns.barplot(x='mnth', y='cnt', hue='workingday', data=data)\n",
    "\n",
    "plt.xlabel('month')\n",
    "plt.ylabel('bikes rented')\n",
    "plt.title(\"number of rented bikes per mounth\")\n",
    "\n",
    "plt.show()"
   ]
  },
  {
   "cell_type": "code",
   "execution_count": 7,
   "id": "29365704-df6f-4413-8402-3e08ace76214",
   "metadata": {},
   "outputs": [
    {
     "data": {
      "text/plain": [
       "Text(0.5, 1.0, 'Effect of temperature on rented bikes')"
      ]
     },
     "execution_count": 7,
     "metadata": {},
     "output_type": "execute_result"
    },
    {
     "data": {
      "image/png": "[encoded data removed]",
      "text/plain": [
       "<Figure size 600x600 with 1 Axes>"
      ]
     },
     "metadata": {},
     "output_type": "display_data"
    }
   ],
   "source": [
    "plt.figure(figsize=(6,6))\n",
    "sns.scatterplot(x='temp', y='cnt', data=data)\n",
    "\n",
    "plt.xlabel(\"Temperature\")\n",
    "plt.ylabel(\"Bikes rented\")\n",
    "\n",
    "plt.title(\"Effect of temperature on rented bikes\")"
   ]
  },
  {
   "cell_type": "code",
   "execution_count": 8,
   "id": "c46e6b32-ae9d-4d45-9760-ba0734f1fc36",
   "metadata": {},
   "outputs": [
    {
     "data": {
      "text/html": [
       "<div>\n",
       "<style scoped>\n",
       "    .dataframe tbody tr th:only-of-type {\n",
       "        vertical-align: middle;\n",
       "    }\n",
       "\n",
       "    .dataframe tbody tr th {\n",
       "        vertical-align: top;\n",
       "    }\n",
       "\n",
       "    .dataframe thead th {\n",
       "        text-align: right;\n",
       "    }\n",
       "</style>\n",
       "<table border=\"1\" class=\"dataframe\">\n",
       "  <thead>\n",
       "    <tr style=\"text-align: right;\">\n",
       "      <th></th>\n",
       "      <th>dteday</th>\n",
       "      <th>yr</th>\n",
       "      <th>mnth</th>\n",
       "      <th>holiday</th>\n",
       "      <th>weekday</th>\n",
       "      <th>workingday</th>\n",
       "      <th>weathersit</th>\n",
       "      <th>temp</th>\n",
       "      <th>atemp</th>\n",
       "      <th>hum</th>\n",
       "      <th>windspeed</th>\n",
       "      <th>casual</th>\n",
       "      <th>registered</th>\n",
       "      <th>cnt</th>\n",
       "      <th>season_1</th>\n",
       "      <th>season_2</th>\n",
       "      <th>season_3</th>\n",
       "      <th>season_4</th>\n",
       "    </tr>\n",
       "    <tr>\n",
       "      <th>instant</th>\n",
       "      <th></th>\n",
       "      <th></th>\n",
       "      <th></th>\n",
       "      <th></th>\n",
       "      <th></th>\n",
       "      <th></th>\n",
       "      <th></th>\n",
       "      <th></th>\n",
       "      <th></th>\n",
       "      <th></th>\n",
       "      <th></th>\n",
       "      <th></th>\n",
       "      <th></th>\n",
       "      <th></th>\n",
       "      <th></th>\n",
       "      <th></th>\n",
       "      <th></th>\n",
       "      <th></th>\n",
       "    </tr>\n",
       "  </thead>\n",
       "  <tbody>\n",
       "    <tr>\n",
       "      <th>396</th>\n",
       "      <td>31-01-2019</td>\n",
       "      <td>1</td>\n",
       "      <td>1</td>\n",
       "      <td>0</td>\n",
       "      <td>2</td>\n",
       "      <td>1</td>\n",
       "      <td>1</td>\n",
       "      <td>15.990000</td>\n",
       "      <td>19.06585</td>\n",
       "      <td>41.6667</td>\n",
       "      <td>17.541739</td>\n",
       "      <td>324</td>\n",
       "      <td>4185</td>\n",
       "      <td>4509</td>\n",
       "      <td>1</td>\n",
       "      <td>0</td>\n",
       "      <td>0</td>\n",
       "      <td>0</td>\n",
       "    </tr>\n",
       "    <tr>\n",
       "      <th>314</th>\n",
       "      <td>10-11-2018</td>\n",
       "      <td>0</td>\n",
       "      <td>11</td>\n",
       "      <td>0</td>\n",
       "      <td>4</td>\n",
       "      <td>1</td>\n",
       "      <td>2</td>\n",
       "      <td>15.580000</td>\n",
       "      <td>18.68605</td>\n",
       "      <td>81.3333</td>\n",
       "      <td>12.667489</td>\n",
       "      <td>190</td>\n",
       "      <td>2743</td>\n",
       "      <td>2933</td>\n",
       "      <td>0</td>\n",
       "      <td>0</td>\n",
       "      <td>0</td>\n",
       "      <td>1</td>\n",
       "    </tr>\n",
       "    <tr>\n",
       "      <th>613</th>\n",
       "      <td>05-09-2019</td>\n",
       "      <td>1</td>\n",
       "      <td>9</td>\n",
       "      <td>0</td>\n",
       "      <td>3</td>\n",
       "      <td>1</td>\n",
       "      <td>1</td>\n",
       "      <td>30.203347</td>\n",
       "      <td>35.44915</td>\n",
       "      <td>74.1250</td>\n",
       "      <td>12.583136</td>\n",
       "      <td>832</td>\n",
       "      <td>6280</td>\n",
       "      <td>7112</td>\n",
       "      <td>0</td>\n",
       "      <td>0</td>\n",
       "      <td>1</td>\n",
       "      <td>0</td>\n",
       "    </tr>\n",
       "    <tr>\n",
       "      <th>75</th>\n",
       "      <td>16-03-2018</td>\n",
       "      <td>0</td>\n",
       "      <td>3</td>\n",
       "      <td>0</td>\n",
       "      <td>3</td>\n",
       "      <td>1</td>\n",
       "      <td>2</td>\n",
       "      <td>14.973897</td>\n",
       "      <td>18.34650</td>\n",
       "      <td>77.6522</td>\n",
       "      <td>13.608839</td>\n",
       "      <td>321</td>\n",
       "      <td>1871</td>\n",
       "      <td>2192</td>\n",
       "      <td>1</td>\n",
       "      <td>0</td>\n",
       "      <td>0</td>\n",
       "      <td>0</td>\n",
       "    </tr>\n",
       "    <tr>\n",
       "      <th>448</th>\n",
       "      <td>24-03-2019</td>\n",
       "      <td>1</td>\n",
       "      <td>3</td>\n",
       "      <td>0</td>\n",
       "      <td>6</td>\n",
       "      <td>0</td>\n",
       "      <td>2</td>\n",
       "      <td>20.602500</td>\n",
       "      <td>24.33665</td>\n",
       "      <td>88.5417</td>\n",
       "      <td>12.916461</td>\n",
       "      <td>1033</td>\n",
       "      <td>2339</td>\n",
       "      <td>3372</td>\n",
       "      <td>0</td>\n",
       "      <td>1</td>\n",
       "      <td>0</td>\n",
       "      <td>0</td>\n",
       "    </tr>\n",
       "  </tbody>\n",
       "</table>\n",
       "</div>"
      ],
      "text/plain": [
       "             dteday  yr  mnth  holiday  weekday  workingday  weathersit  \\\n",
       "instant                                                                   \n",
       "396      31-01-2019   1     1        0        2           1           1   \n",
       "314      10-11-2018   0    11        0        4           1           2   \n",
       "613      05-09-2019   1     9        0        3           1           1   \n",
       "75       16-03-2018   0     3        0        3           1           2   \n",
       "448      24-03-2019   1     3        0        6           0           2   \n",
       "\n",
       "              temp     atemp      hum  windspeed  casual  registered   cnt  \\\n",
       "instant                                                                      \n",
       "396      15.990000  19.06585  41.6667  17.541739     324        4185  4509   \n",
       "314      15.580000  18.68605  81.3333  12.667489     190        2743  2933   \n",
       "613      30.203347  35.44915  74.1250  12.583136     832        6280  7112   \n",
       "75       14.973897  18.34650  77.6522  13.608839     321        1871  2192   \n",
       "448      20.602500  24.33665  88.5417  12.916461    1033        2339  3372   \n",
       "\n",
       "         season_1  season_2  season_3  season_4  \n",
       "instant                                          \n",
       "396             1         0         0         0  \n",
       "314             0         0         0         1  \n",
       "613             0         0         1         0  \n",
       "75              1         0         0         0  \n",
       "448             0         1         0         0  "
      ]
     },
     "execution_count": 8,
     "metadata": {},
     "output_type": "execute_result"
    }
   ],
   "source": [
    "data = pd.get_dummies(data, columns=['season'])\n",
    "data.sample(5)"
   ]
  },
  {
   "cell_type": "code",
   "execution_count": 9,
   "id": "b9fceaaf-d498-4531-b167-889cdaa5b3a7",
   "metadata": {},
   "outputs": [
    {
     "data": {
      "text/html": [
       "<div>\n",
       "<style scoped>\n",
       "    .dataframe tbody tr th:only-of-type {\n",
       "        vertical-align: middle;\n",
       "    }\n",
       "\n",
       "    .dataframe tbody tr th {\n",
       "        vertical-align: top;\n",
       "    }\n",
       "\n",
       "    .dataframe thead th {\n",
       "        text-align: right;\n",
       "    }\n",
       "</style>\n",
       "<table border=\"1\" class=\"dataframe\">\n",
       "  <thead>\n",
       "    <tr style=\"text-align: right;\">\n",
       "      <th></th>\n",
       "      <th>cnt</th>\n",
       "    </tr>\n",
       "    <tr>\n",
       "      <th>instant</th>\n",
       "      <th></th>\n",
       "    </tr>\n",
       "  </thead>\n",
       "  <tbody>\n",
       "    <tr>\n",
       "      <th>1</th>\n",
       "      <td>985</td>\n",
       "    </tr>\n",
       "    <tr>\n",
       "      <th>2</th>\n",
       "      <td>801</td>\n",
       "    </tr>\n",
       "    <tr>\n",
       "      <th>3</th>\n",
       "      <td>1349</td>\n",
       "    </tr>\n",
       "    <tr>\n",
       "      <th>4</th>\n",
       "      <td>1562</td>\n",
       "    </tr>\n",
       "    <tr>\n",
       "      <th>5</th>\n",
       "      <td>1600</td>\n",
       "    </tr>\n",
       "    <tr>\n",
       "      <th>...</th>\n",
       "      <td>...</td>\n",
       "    </tr>\n",
       "    <tr>\n",
       "      <th>726</th>\n",
       "      <td>2114</td>\n",
       "    </tr>\n",
       "    <tr>\n",
       "      <th>727</th>\n",
       "      <td>3095</td>\n",
       "    </tr>\n",
       "    <tr>\n",
       "      <th>728</th>\n",
       "      <td>1341</td>\n",
       "    </tr>\n",
       "    <tr>\n",
       "      <th>729</th>\n",
       "      <td>1796</td>\n",
       "    </tr>\n",
       "    <tr>\n",
       "      <th>730</th>\n",
       "      <td>2729</td>\n",
       "    </tr>\n",
       "  </tbody>\n",
       "</table>\n",
       "<p>730 rows × 1 columns</p>\n",
       "</div>"
      ],
      "text/plain": [
       "          cnt\n",
       "instant      \n",
       "1         985\n",
       "2         801\n",
       "3        1349\n",
       "4        1562\n",
       "5        1600\n",
       "...       ...\n",
       "726      2114\n",
       "727      3095\n",
       "728      1341\n",
       "729      1796\n",
       "730      2729\n",
       "\n",
       "[730 rows x 1 columns]"
      ]
     },
     "execution_count": 9,
     "metadata": {},
     "output_type": "execute_result"
    }
   ],
   "source": [
    "feature_columns=['registered', 'holiday', 'weekday',\n",
    "                 'weathersit', 'temp', 'atemp',\n",
    "                 'season_1', 'season_2', 'season_3',\n",
    "                 'season_4']\n",
    "features = data[feature_columns]\n",
    "target = data[['cnt']]\n",
    "target"
   ]
  },
  {
   "cell_type": "code",
   "execution_count": 10,
   "id": "edbc9895-5b1c-42fa-aedf-4a42b779ca03",
   "metadata": {},
   "outputs": [],
   "source": [
    "from sklearn.model_selection import train_test_split"
   ]
  },
  {
   "cell_type": "code",
   "execution_count": 11,
   "id": "fa294c4a-2a7f-4d83-88be-7716da6c11b5",
   "metadata": {},
   "outputs": [],
   "source": [
    "X_train, x_test, Y_train, y_test = train_test_split(features,\n",
    "                                                    target,\n",
    "                                                    test_size=0.2)\n",
    "                                                    "
   ]
  },
  {
   "cell_type": "code",
   "execution_count": 12,
   "id": "a91b965c-761c-4fa4-bb66-d498e5318d94",
   "metadata": {},
   "outputs": [],
   "source": [
    "X_train_tensor = torch.tensor(X_train.values, dtype=torch.float)\n",
    "Y_train_tensor = torch.tensor(Y_train.values, dtype=torch.float)\n",
    "\n",
    "x_test_tensor = torch.tensor(x_test.values, dtype=torch.float)\n",
    "y_test_tensor = torch.tensor(y_test.values, dtype=torch.float)"
   ]
  },
  {
   "cell_type": "code",
   "execution_count": 13,
   "id": "4f4e4df1-38fa-4374-b51a-a858813742aa",
   "metadata": {},
   "outputs": [
    {
     "data": {
      "text/plain": [
       "torch.Size([584, 10])"
      ]
     },
     "execution_count": 13,
     "metadata": {},
     "output_type": "execute_result"
    }
   ],
   "source": [
    "X_train_tensor.shape"
   ]
  },
  {
   "cell_type": "code",
   "execution_count": 14,
   "id": "0f06a37d-7f0a-41b8-9a08-4cce68451e82",
   "metadata": {},
   "outputs": [
    {
     "data": {
      "text/plain": [
       "torch.Size([146, 1])"
      ]
     },
     "execution_count": 14,
     "metadata": {},
     "output_type": "execute_result"
    }
   ],
   "source": [
    "y_test_tensor.shape"
   ]
  },
  {
   "cell_type": "code",
   "execution_count": 15,
   "id": "94c31c11-b75e-4ed6-89ec-1259fa5154a4",
   "metadata": {},
   "outputs": [],
   "source": [
    "import torch.utils.data as data_utils"
   ]
  },
  {
   "cell_type": "code",
   "execution_count": 16,
   "id": "e6c5a95d-1c5d-40e7-b31b-ee0e7fafc06c",
   "metadata": {},
   "outputs": [],
   "source": [
    "train_data = data_utils.TensorDataset(X_train_tensor, Y_train_tensor)"
   ]
  },
  {
   "cell_type": "code",
   "execution_count": 17,
   "id": "ef1f3702-8b87-4591-b9d3-81696513323d",
   "metadata": {},
   "outputs": [],
   "source": [
    "train_loader = data_utils.DataLoader(train_data, batch_size=100, shuffle=True)"
   ]
  },
  {
   "cell_type": "code",
   "execution_count": 18,
   "id": "afcb1e01-de9f-4687-89ce-0008e964d04d",
   "metadata": {},
   "outputs": [
    {
     "data": {
      "text/plain": [
       "6"
      ]
     },
     "execution_count": 18,
     "metadata": {},
     "output_type": "execute_result"
    }
   ],
   "source": [
    "len(train_loader)"
   ]
  },
  {
   "cell_type": "code",
   "execution_count": 19,
   "id": "ab201bf6-37bd-4ce1-99ca-d943a127c13c",
   "metadata": {},
   "outputs": [],
   "source": [
    "features_batch, targets_batch = next(iter(train_loader))"
   ]
  },
  {
   "cell_type": "code",
   "execution_count": 20,
   "id": "e32be457-ac76-40d8-8295-3f4f29639055",
   "metadata": {},
   "outputs": [
    {
     "data": {
      "text/plain": [
       "torch.Size([100, 10])"
      ]
     },
     "execution_count": 20,
     "metadata": {},
     "output_type": "execute_result"
    }
   ],
   "source": [
    "features_batch.shape"
   ]
  },
  {
   "cell_type": "code",
   "execution_count": 21,
   "id": "8579a980-74e6-4780-abf1-2c14b2ecff2a",
   "metadata": {},
   "outputs": [
    {
     "data": {
      "text/plain": [
       "torch.Size([100, 1])"
      ]
     },
     "execution_count": 21,
     "metadata": {},
     "output_type": "execute_result"
    }
   ],
   "source": [
    "targets_batch.shape"
   ]
  },
  {
   "cell_type": "code",
   "execution_count": 22,
   "id": "02fce680-4405-4611-a69d-74d4219c768f",
   "metadata": {},
   "outputs": [],
   "source": [
    "input_size = X_train_tensor.shape[1]\n",
    "output_size = 1\n",
    "hidden_layer_size = 10"
   ]
  },
  {
   "cell_type": "code",
   "execution_count": 23,
   "id": "d2521af4-e6f7-4119-8e51-8cb072c5ed6b",
   "metadata": {},
   "outputs": [],
   "source": [
    "loss_fn = torch.nn.MSELoss()"
   ]
  },
  {
   "cell_type": "code",
   "execution_count": 24,
   "id": "aa63023a-62e8-4aa7-96ed-0e96f88f8998",
   "metadata": {},
   "outputs": [],
   "source": [
    "model = torch.nn.Sequential(torch.nn.Linear(input_size, hidden_layer_size),\n",
    "                            torch.nn.ReLU(),\n",
    "                            torch.nn.Linear(hidden_layer_size, output_size))"
   ]
  },
  {
   "cell_type": "code",
   "execution_count": 25,
   "id": "756cc058-d2ad-4c21-8a57-554fd1101ff7",
   "metadata": {},
   "outputs": [
    {
     "name": "stderr",
     "output_type": "stream",
     "text": [
      "/home/ghostoftime111/anaconda3/envs/DP/lib/python3.10/site-packages/hiddenlayer/pytorch_builder.py:82: FutureWarning: 'torch.onnx._patch_torch._node_getitem' is deprecated in version 1.13 and will be removed in version 1.14. Please Internally use '_node_get' in symbolic_helper instead..\n",
      "  params = {k: torch_node[k] for k in torch_node.attributeNames()}\n"
     ]
    },
    {
     "data": {
      "image/svg+xml": [
       "<?xml version=\"1.0\" encoding=\"UTF-8\" standalone=\"no\"?>\n",
       "<!DOCTYPE svg PUBLIC \"-//W3C//DTD SVG 1.1//EN\"\n",
       " \"http://www.w3.org/Graphics/SVG/1.1/DTD/svg11.dtd\">\n",
       "<!-- Generated by graphviz version 2.43.0 (0)\n",
       " -->\n",
       "<!-- Title: %3 Pages: 1 -->\n",
       "<svg width=\"307pt\" height=\"108pt\"\n",
       " viewBox=\"0.00 0.00 307.00 108.00\" xmlns=\"http://www.w3.org/2000/svg\" xmlns:xlink=\"http://www.w3.org/1999/xlink\">\n",
       "<g id=\"graph0\" class=\"graph\" transform=\"scale(1 1) rotate(0) translate(72 72)\">\n",
       "<title>%3</title>\n",
       "<polygon fill=\"#ffffff\" stroke=\"transparent\" points=\"-72,36 -72,-72 235,-72 235,36 -72,36\"/>\n",
       "<!-- /outputs/7 -->\n",
       "<g id=\"node1\" class=\"node\">\n",
       "<title>/outputs/7</title>\n",
       "<polygon fill=\"#e8e8e8\" stroke=\"#000000\" points=\"163,-36 109,-36 109,0 163,0 163,-36\"/>\n",
       "<text text-anchor=\"start\" x=\"123\" y=\"-15\" font-family=\"Times\" font-size=\"10.00\" fill=\"#000000\">Linear</text>\n",
       "</g>\n",
       "<!-- 3098871090444088102 -->\n",
       "<g id=\"node2\" class=\"node\">\n",
       "<title>3098871090444088102</title>\n",
       "<polygon fill=\"#e8e8e8\" stroke=\"#000000\" points=\"73,-36 0,-36 0,0 73,0 73,-36\"/>\n",
       "<text text-anchor=\"start\" x=\"8.5\" y=\"-15\" font-family=\"Times\" font-size=\"10.00\" fill=\"#000000\">Linear &gt; Relu</text>\n",
       "</g>\n",
       "<!-- 3098871090444088102&#45;&gt;/outputs/7 -->\n",
       "<g id=\"edge1\" class=\"edge\">\n",
       "<title>3098871090444088102&#45;&gt;/outputs/7</title>\n",
       "<path fill=\"none\" stroke=\"#000000\" d=\"M73.25,-18C81.51,-18 90.3,-18 98.58,-18\"/>\n",
       "<polygon fill=\"#000000\" stroke=\"#000000\" points=\"98.72,-21.5 108.72,-18 98.72,-14.5 98.72,-21.5\"/>\n",
       "</g>\n",
       "</g>\n",
       "</svg>\n"
      ],
      "text/plain": [
       "<graphviz.graphs.Digraph at 0x7f22e87d0b80>"
      ]
     },
     "execution_count": 25,
     "metadata": {},
     "output_type": "execute_result"
    }
   ],
   "source": [
    "hl.build_graph(model, torch.zeros([hidden_layer_size, input_size])).build_dot()"
   ]
  },
  {
   "cell_type": "code",
   "execution_count": 26,
   "id": "70434975-000a-4e80-b3a3-74d0031ebfa3",
   "metadata": {},
   "outputs": [],
   "source": [
    "learning_rate = 0.001\n",
    "optimizer = torch.optim.Adam(model.parameters(), lr=learning_rate)"
   ]
  },
  {
   "cell_type": "code",
   "execution_count": 27,
   "id": "d1c8fa47-c17f-4d34-b5e4-079fc6ded923",
   "metadata": {},
   "outputs": [
    {
     "name": "stdout",
     "output_type": "stream",
     "text": [
      "Epoch [1]/[0], Step: 1/6, Loss: 20238124.0000\n",
      "Epoch [1]/[0], Step: 2/6, Loss: 22295214.0000\n",
      "Epoch [1]/[0], Step: 3/6, Loss: 22186270.0000\n",
      "Epoch [1]/[0], Step: 4/6, Loss: 21879106.0000\n",
      "Epoch [1]/[0], Step: 5/6, Loss: 22022520.0000\n",
      "Epoch [1]/[0], Step: 6/6, Loss: 23897932.0000\n",
      "Epoch [2001]/[2000], Step: 1/6, Loss: 330114.6250\n",
      "Epoch [2001]/[2000], Step: 2/6, Loss: 361306.7188\n",
      "Epoch [2001]/[2000], Step: 3/6, Loss: 279297.0000\n",
      "Epoch [2001]/[2000], Step: 4/6, Loss: 256261.5938\n",
      "Epoch [2001]/[2000], Step: 5/6, Loss: 447172.6250\n",
      "Epoch [2001]/[2000], Step: 6/6, Loss: 348372.9688\n",
      "Epoch [4001]/[4000], Step: 1/6, Loss: 421597.4375\n",
      "Epoch [4001]/[4000], Step: 2/6, Loss: 271774.5312\n",
      "Epoch [4001]/[4000], Step: 3/6, Loss: 206881.5781\n",
      "Epoch [4001]/[4000], Step: 4/6, Loss: 372614.1250\n",
      "Epoch [4001]/[4000], Step: 5/6, Loss: 268200.0938\n",
      "Epoch [4001]/[4000], Step: 6/6, Loss: 396673.9688\n",
      "Epoch [6001]/[6000], Step: 1/6, Loss: 308425.5312\n",
      "Epoch [6001]/[6000], Step: 2/6, Loss: 327758.5000\n",
      "Epoch [6001]/[6000], Step: 3/6, Loss: 303267.9062\n",
      "Epoch [6001]/[6000], Step: 4/6, Loss: 240419.7031\n",
      "Epoch [6001]/[6000], Step: 5/6, Loss: 343305.1875\n",
      "Epoch [6001]/[6000], Step: 6/6, Loss: 390990.9688\n",
      "Epoch [8001]/[8000], Step: 1/6, Loss: 351220.7188\n",
      "Epoch [8001]/[8000], Step: 2/6, Loss: 374954.3125\n",
      "Epoch [8001]/[8000], Step: 3/6, Loss: 232069.2031\n",
      "Epoch [8001]/[8000], Step: 4/6, Loss: 269506.4375\n",
      "Epoch [8001]/[8000], Step: 5/6, Loss: 373637.5312\n",
      "Epoch [8001]/[8000], Step: 6/6, Loss: 285274.4688\n",
      "Epoch [10001]/[10000], Step: 1/6, Loss: 348111.6250\n",
      "Epoch [10001]/[10000], Step: 2/6, Loss: 234997.2969\n",
      "Epoch [10001]/[10000], Step: 3/6, Loss: 287258.4688\n",
      "Epoch [10001]/[10000], Step: 4/6, Loss: 430254.5938\n",
      "Epoch [10001]/[10000], Step: 5/6, Loss: 356527.4062\n",
      "Epoch [10001]/[10000], Step: 6/6, Loss: 214001.6719\n"
     ]
    }
   ],
   "source": [
    "total_step = len(train_loader)\n",
    "\n",
    "num_epochs = 10000\n",
    "\n",
    "for epoch in range(num_epochs + 1):\n",
    "    for i, (features, target) in enumerate(train_loader):\n",
    "        \n",
    "        output = model(features)\n",
    "        loss = loss_fn(output, target)\n",
    "        \n",
    "        optimizer.zero_grad()\n",
    "        \n",
    "        loss.backward()\n",
    "        \n",
    "        optimizer.step()\n",
    "        \n",
    "        if epoch % 2000 == 0:\n",
    "            print(f\"Epoch [{epoch + 1}]/[{epoch}], Step: {i+1}/{total_step}, Loss: {loss.item():.4f}\") \n",
    "            "
   ]
  },
  {
   "cell_type": "code",
   "execution_count": 28,
   "id": "2feec007-3724-4d29-bc5d-900b1d15805c",
   "metadata": {},
   "outputs": [],
   "source": [
    "model.eval()\n",
    "\n",
    "with torch.no_grad():\n",
    "    y_pred = model(x_test_tensor)"
   ]
  },
  {
   "cell_type": "code",
   "execution_count": 29,
   "id": "c853a631-999e-442f-91c9-ddeda01d8c79",
   "metadata": {},
   "outputs": [
    {
     "data": {
      "text/plain": [
       "registered    5711.000\n",
       "holiday          0.000\n",
       "weekday          4.000\n",
       "weathersit       1.000\n",
       "temp            26.855\n",
       "atemp           30.335\n",
       "season_1         0.000\n",
       "season_2         1.000\n",
       "season_3         0.000\n",
       "season_4         0.000\n",
       "Name: 509, dtype: float64"
      ]
     },
     "execution_count": 29,
     "metadata": {},
     "output_type": "execute_result"
    }
   ],
   "source": [
    "sample = x_test.iloc[21]\n",
    "sample"
   ]
  },
  {
   "cell_type": "code",
   "execution_count": 30,
   "id": "85fe6d11-7467-4292-ae11-d6af2200bf3c",
   "metadata": {},
   "outputs": [
    {
     "data": {
      "text/plain": [
       "tensor([5.7110e+03, 0.0000e+00, 4.0000e+00, 1.0000e+00, 2.6855e+01, 3.0335e+01,\n",
       "        0.0000e+00, 1.0000e+00, 0.0000e+00, 0.0000e+00])"
      ]
     },
     "execution_count": 30,
     "metadata": {},
     "output_type": "execute_result"
    }
   ],
   "source": [
    "sample_tensor = torch.tensor(sample, dtype=torch.float)\n",
    "sample_tensor"
   ]
  },
  {
   "cell_type": "code",
   "execution_count": 31,
   "id": "f9e8aa02-ebc3-4b45-a736-9f3a6db4f50c",
   "metadata": {},
   "outputs": [
    {
     "name": "stdout",
     "output_type": "stream",
     "text": [
      "Predicted:  7098.625\n",
      "Actual:  cnt    6770\n",
      "Name: 509, dtype: int64\n"
     ]
    }
   ],
   "source": [
    "with torch.no_grad():\n",
    "    y_pred = model(sample_tensor)\n",
    "    \n",
    "print(\"Predicted: \", y_pred.item())\n",
    "print(\"Actual: \", y_test.iloc[21])"
   ]
  },
  {
   "cell_type": "code",
   "execution_count": 32,
   "id": "76dc3060-ca4e-46d3-aae4-9c88d1b95941",
   "metadata": {},
   "outputs": [],
   "source": [
    "with torch.no_grad():\n",
    "    y_pred_tensor = model(x_test_tensor)"
   ]
  },
  {
   "cell_type": "code",
   "execution_count": 33,
   "id": "1261d3f0-28c9-40aa-944d-f0a69594758f",
   "metadata": {},
   "outputs": [
    {
     "data": {
      "text/plain": [
       "(146, 1)"
      ]
     },
     "execution_count": 33,
     "metadata": {},
     "output_type": "execute_result"
    }
   ],
   "source": [
    "y_pred = y_pred_tensor.detach().numpy()\n",
    "y_pred.shape"
   ]
  },
  {
   "cell_type": "code",
   "execution_count": 34,
   "id": "fbdefe9c-a52b-426b-b220-5ab49a2ffc47",
   "metadata": {},
   "outputs": [
    {
     "data": {
      "text/plain": [
       "(146, 1)"
      ]
     },
     "execution_count": 34,
     "metadata": {},
     "output_type": "execute_result"
    }
   ],
   "source": [
    "y_test.values.shape"
   ]
  },
  {
   "cell_type": "code",
   "execution_count": 35,
   "id": "0844ae0c-3f02-42c9-8d15-76475f01e94c",
   "metadata": {},
   "outputs": [
    {
     "data": {
      "text/html": [
       "<div>\n",
       "<style scoped>\n",
       "    .dataframe tbody tr th:only-of-type {\n",
       "        vertical-align: middle;\n",
       "    }\n",
       "\n",
       "    .dataframe tbody tr th {\n",
       "        vertical-align: top;\n",
       "    }\n",
       "\n",
       "    .dataframe thead th {\n",
       "        text-align: right;\n",
       "    }\n",
       "</style>\n",
       "<table border=\"1\" class=\"dataframe\">\n",
       "  <thead>\n",
       "    <tr style=\"text-align: right;\">\n",
       "      <th></th>\n",
       "      <th>actual</th>\n",
       "      <th>predicted</th>\n",
       "    </tr>\n",
       "  </thead>\n",
       "  <tbody>\n",
       "    <tr>\n",
       "      <th>55</th>\n",
       "      <td>3389</td>\n",
       "      <td>3194.402588</td>\n",
       "    </tr>\n",
       "    <tr>\n",
       "      <th>106</th>\n",
       "      <td>6230</td>\n",
       "      <td>6210.736328</td>\n",
       "    </tr>\n",
       "    <tr>\n",
       "      <th>15</th>\n",
       "      <td>4590</td>\n",
       "      <td>5178.501953</td>\n",
       "    </tr>\n",
       "    <tr>\n",
       "      <th>70</th>\n",
       "      <td>5585</td>\n",
       "      <td>5680.660156</td>\n",
       "    </tr>\n",
       "    <tr>\n",
       "      <th>24</th>\n",
       "      <td>4318</td>\n",
       "      <td>3586.063721</td>\n",
       "    </tr>\n",
       "    <tr>\n",
       "      <th>89</th>\n",
       "      <td>7570</td>\n",
       "      <td>7611.960938</td>\n",
       "    </tr>\n",
       "    <tr>\n",
       "      <th>111</th>\n",
       "      <td>4792</td>\n",
       "      <td>5306.866699</td>\n",
       "    </tr>\n",
       "    <tr>\n",
       "      <th>121</th>\n",
       "      <td>4727</td>\n",
       "      <td>4984.603516</td>\n",
       "    </tr>\n",
       "    <tr>\n",
       "      <th>126</th>\n",
       "      <td>1321</td>\n",
       "      <td>1367.464722</td>\n",
       "    </tr>\n",
       "    <tr>\n",
       "      <th>74</th>\n",
       "      <td>4486</td>\n",
       "      <td>4829.096191</td>\n",
       "    </tr>\n",
       "  </tbody>\n",
       "</table>\n",
       "</div>"
      ],
      "text/plain": [
       "     actual    predicted\n",
       "55     3389  3194.402588\n",
       "106    6230  6210.736328\n",
       "15     4590  5178.501953\n",
       "70     5585  5680.660156\n",
       "24     4318  3586.063721\n",
       "89     7570  7611.960938\n",
       "111    4792  5306.866699\n",
       "121    4727  4984.603516\n",
       "126    1321  1367.464722\n",
       "74     4486  4829.096191"
      ]
     },
     "execution_count": 35,
     "metadata": {},
     "output_type": "execute_result"
    }
   ],
   "source": [
    "compare_df = pd.DataFrame({'actual': np.squeeze(y_test.values), 'predicted': np.squeeze(y_pred)})\n",
    "compare_df.sample(10)"
   ]
  },
  {
   "cell_type": "code",
   "execution_count": 36,
   "id": "4b295faf-c4ee-4277-ac04-0a5820c1134d",
   "metadata": {},
   "outputs": [
    {
     "data": {
      "text/plain": [
       "0.9340096008742341"
      ]
     },
     "execution_count": 36,
     "metadata": {},
     "output_type": "execute_result"
    }
   ],
   "source": [
    "sklearn.metrics.r2_score(y_test, y_pred)"
   ]
  },
  {
   "cell_type": "code",
   "execution_count": 37,
   "id": "6fcf6c16-5ebb-4bac-a7aa-b44413ab4f35",
   "metadata": {},
   "outputs": [
    {
     "data": {
      "image/png": "[encoded data removed]",
      "text/plain": [
       "<Figure size 600x600 with 1 Axes>"
      ]
     },
     "metadata": {},
     "output_type": "display_data"
    }
   ],
   "source": [
    "plt.figure(figsize=(6,6))\n",
    "\n",
    "plt.scatter(y_pred, y_test.values, s=100)\n",
    "\n",
    "plt.xlabel('Actual values')\n",
    "plt.ylabel('Predicted values')\n",
    "\n",
    "plt.show()"
   ]
  }
 ],
 "metadata": {
  "kernelspec": {
   "display_name": "Python 3 (ipykernel)",
   "language": "python",
   "name": "python3"
  },
  "language_info": {
   "codemirror_mode": {
    "name": "ipython",
    "version": 3
   },
   "file_extension": ".py",
   "mimetype": "text/x-python",
   "name": "python",
   "nbconvert_exporter": "python",
   "pygments_lexer": "ipython3",
   "version": "3.10.0"
  }
 },
 "nbformat": 4,
 "nbformat_minor": 5
}
